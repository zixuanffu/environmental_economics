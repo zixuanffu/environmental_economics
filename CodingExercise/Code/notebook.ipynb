{
 "cells": [
  {
   "cell_type": "markdown",
   "id": "528222d6",
   "metadata": {},
   "source": [
    "# Agricultural Land Use and Irrigation"
   ]
  },
  {
   "cell_type": "code",
   "execution_count": 2,
   "id": "a08b320a",
   "metadata": {},
   "outputs": [],
   "source": [
    "import pandas as pd\n",
    "import geopandas as gpd\n",
    "import matplotlib.pyplot as plt\n",
    "import seaborn as sns\n",
    "import numpy as np\n",
    "from sklearn.linear_model import LinearRegression\n",
    "from statsmodels.api import add_constant\n",
    "import statsmodels.api as sm"
   ]
  },
  {
   "cell_type": "code",
   "execution_count": 3,
   "id": "cf4ddad7",
   "metadata": {},
   "outputs": [],
   "source": [
    "import os\n",
    "os.chdir('/Users/zixuanffu/Library/CloudStorage/OneDrive-Personal/TSE/Cours/S4/Environmental Economics/Homework')"
   ]
  },
  {
   "cell_type": "markdown",
   "id": "092a53cf",
   "metadata": {},
   "source": [
    "# Data"
   ]
  },
  {
   "cell_type": "markdown",
   "id": "2adb0a82",
   "metadata": {},
   "source": [
    "1. Read the land use panel. Reclassify crops differentiating if they are irrigated or not."
   ]
  },
  {
   "cell_type": "code",
   "execution_count": 54,
   "id": "5bab3030",
   "metadata": {},
   "outputs": [
    {
     "data": {
      "text/plain": [
       "array(['Almeria', 'Cadiz'], dtype=object)"
      ]
     },
     "execution_count": 54,
     "metadata": {},
     "output_type": "execute_result"
    }
   ],
   "source": [
    "land_use = pd.read_csv(\"CodingExercise/Data/land_use_panel.csv\")\n",
    "land_use.head()\n",
    "land_use[\"prov\"].unique()"
   ]
  },
  {
   "cell_type": "code",
   "execution_count": 40,
   "id": "23b7acfc",
   "metadata": {},
   "outputs": [],
   "source": [
    "# reclassify crops by concatenating LU and irrigation\n",
    "land_use['crop_irr'] = land_use['LU'].astype(str) + '_' + land_use['irrigation'].astype(str)"
   ]
  },
  {
   "cell_type": "code",
   "execution_count": 8,
   "id": "81241736",
   "metadata": {},
   "outputs": [
    {
     "name": "stdout",
     "output_type": "stream",
     "text": [
      "['olive_0' 'other_0' 'olive_1' 'nuts_0' 'arable_1' 'nuts_1' 'arable_0'\n",
      " 'other_1' 'citric_1']\n"
     ]
    }
   ],
   "source": [
    "print(land_use['crop_irr'].unique())"
   ]
  },
  {
   "cell_type": "markdown",
   "id": "3a70c876",
   "metadata": {},
   "source": [
    "2. Read the grid information dataset. Compute the area of the grid cells (in hectares)."
   ]
  },
  {
   "cell_type": "code",
   "execution_count": 6,
   "id": "bef9d374",
   "metadata": {},
   "outputs": [],
   "source": [
    "grid = gpd.read_file(\"CodingExercise/Data/sigpacGrid250.shp\")\n",
    "grid = grid.to_crs(epsg=25830)  # Use projected CRS for accurate area in meters\n",
    "grid[\"area_ha\"] = grid.geometry.area / 10_000  # Convert m² to hectares"
   ]
  },
  {
   "cell_type": "code",
   "execution_count": 9,
   "id": "df04457e",
   "metadata": {},
   "outputs": [
    {
     "data": {
      "text/html": [
       "<div>\n",
       "<style scoped>\n",
       "    .dataframe tbody tr th:only-of-type {\n",
       "        vertical-align: middle;\n",
       "    }\n",
       "\n",
       "    .dataframe tbody tr th {\n",
       "        vertical-align: top;\n",
       "    }\n",
       "\n",
       "    .dataframe thead th {\n",
       "        text-align: right;\n",
       "    }\n",
       "</style>\n",
       "<table border=\"1\" class=\"dataframe\">\n",
       "  <thead>\n",
       "    <tr style=\"text-align: right;\">\n",
       "      <th></th>\n",
       "      <th>grid_id</th>\n",
       "      <th>prov</th>\n",
       "      <th>geometry</th>\n",
       "      <th>area_ha</th>\n",
       "    </tr>\n",
       "  </thead>\n",
       "  <tbody>\n",
       "    <tr>\n",
       "      <th>0</th>\n",
       "      <td>04_1</td>\n",
       "      <td>Almeria</td>\n",
       "      <td>POLYGON ((4.87e+05 4.06e+06, 4.87e+05 4.06e+06...</td>\n",
       "      <td>6.25</td>\n",
       "    </tr>\n",
       "    <tr>\n",
       "      <th>1</th>\n",
       "      <td>04_2</td>\n",
       "      <td>Almeria</td>\n",
       "      <td>POLYGON ((4.88e+05 4.06e+06, 4.88e+05 4.06e+06...</td>\n",
       "      <td>6.25</td>\n",
       "    </tr>\n",
       "    <tr>\n",
       "      <th>2</th>\n",
       "      <td>04_3</td>\n",
       "      <td>Almeria</td>\n",
       "      <td>POLYGON ((4.88e+05 4.06e+06, 4.88e+05 4.06e+06...</td>\n",
       "      <td>6.25</td>\n",
       "    </tr>\n",
       "    <tr>\n",
       "      <th>3</th>\n",
       "      <td>04_4</td>\n",
       "      <td>Almeria</td>\n",
       "      <td>POLYGON ((4.88e+05 4.06e+06, 4.88e+05 4.06e+06...</td>\n",
       "      <td>6.25</td>\n",
       "    </tr>\n",
       "    <tr>\n",
       "      <th>4</th>\n",
       "      <td>04_5</td>\n",
       "      <td>Almeria</td>\n",
       "      <td>POLYGON ((4.88e+05 4.06e+06, 4.88e+05 4.06e+06...</td>\n",
       "      <td>6.25</td>\n",
       "    </tr>\n",
       "  </tbody>\n",
       "</table>\n",
       "</div>"
      ],
      "text/plain": [
       "  grid_id     prov                                           geometry  area_ha\n",
       "0    04_1  Almeria  POLYGON ((4.87e+05 4.06e+06, 4.87e+05 4.06e+06...     6.25\n",
       "1    04_2  Almeria  POLYGON ((4.88e+05 4.06e+06, 4.88e+05 4.06e+06...     6.25\n",
       "2    04_3  Almeria  POLYGON ((4.88e+05 4.06e+06, 4.88e+05 4.06e+06...     6.25\n",
       "3    04_4  Almeria  POLYGON ((4.88e+05 4.06e+06, 4.88e+05 4.06e+06...     6.25\n",
       "4    04_5  Almeria  POLYGON ((4.88e+05 4.06e+06, 4.88e+05 4.06e+06...     6.25"
      ]
     },
     "execution_count": 9,
     "metadata": {},
     "output_type": "execute_result"
    }
   ],
   "source": [
    "grid.head()"
   ]
  },
  {
   "cell_type": "markdown",
   "id": "ff323cd8",
   "metadata": {},
   "source": [
    "3. Show in map the spatial distribution of cropland (irrigated, non-irrigated) in 2021 in the province of Almeria."
   ]
  },
  {
   "cell_type": "code",
   "execution_count": 10,
   "id": "e19755b0",
   "metadata": {},
   "outputs": [
    {
     "data": {
      "text/plain": [
       "<Figure size 800x500 with 0 Axes>"
      ]
     },
     "metadata": {},
     "output_type": "display_data"
    },
    {
     "data": {
      "image/png": "[encoded data removed]",
      "text/plain": [
       "<Figure size 640x480 with 2 Axes>"
      ]
     },
     "metadata": {},
     "output_type": "display_data"
    }
   ],
   "source": [
    "land_2021 = land_use[(land_use[\"year\"] == 2021) & (land_use[\"prov\"] == \"Almeria\")]\n",
    "land_2021_merged = grid.merge(land_2021, on=\"grid_id\")\n",
    "plt.figure(figsize=(8, 5))\n",
    "land_2021_merged.plot(column=\"irrigation\", legend=True)\n",
    "plt.title(\"Cropland Irrigation in Almeria (2021)\")\n",
    "plt.show()"
   ]
  },
  {
   "cell_type": "markdown",
   "id": "d94b591f",
   "metadata": {},
   "source": [
    "4. Descriptive statistics: compute total area by crop (average across all years), plot total area under irrigation over time (aggregate and by crop). Comment the results."
   ]
  },
  {
   "cell_type": "code",
   "execution_count": 41,
   "id": "0c903e68",
   "metadata": {},
   "outputs": [
    {
     "data": {
      "text/plain": [
       "array(['olive', 'other', 'nuts', 'arable', 'citric'], dtype=object)"
      ]
     },
     "execution_count": 41,
     "metadata": {},
     "output_type": "execute_result"
    }
   ],
   "source": [
    "land_use[\"crop\"]=land_use[\"LU\"]\n",
    "land_use[\"crop\"].unique()"
   ]
  },
  {
   "cell_type": "code",
   "execution_count": 12,
   "id": "33691394",
   "metadata": {},
   "outputs": [
    {
     "data": {
      "text/html": [
       "<div>\n",
       "<style scoped>\n",
       "    .dataframe tbody tr th:only-of-type {\n",
       "        vertical-align: middle;\n",
       "    }\n",
       "\n",
       "    .dataframe tbody tr th {\n",
       "        vertical-align: top;\n",
       "    }\n",
       "\n",
       "    .dataframe thead th {\n",
       "        text-align: right;\n",
       "    }\n",
       "</style>\n",
       "<table border=\"1\" class=\"dataframe\">\n",
       "  <thead>\n",
       "    <tr style=\"text-align: right;\">\n",
       "      <th></th>\n",
       "      <th>crop</th>\n",
       "      <th>area_ha</th>\n",
       "    </tr>\n",
       "  </thead>\n",
       "  <tbody>\n",
       "    <tr>\n",
       "      <th>0</th>\n",
       "      <td>arable</td>\n",
       "      <td>149535.15625</td>\n",
       "    </tr>\n",
       "    <tr>\n",
       "      <th>1</th>\n",
       "      <td>citric</td>\n",
       "      <td>9535.93750</td>\n",
       "    </tr>\n",
       "    <tr>\n",
       "      <th>2</th>\n",
       "      <td>nuts</td>\n",
       "      <td>59607.03125</td>\n",
       "    </tr>\n",
       "    <tr>\n",
       "      <th>3</th>\n",
       "      <td>olive</td>\n",
       "      <td>9780.46875</td>\n",
       "    </tr>\n",
       "    <tr>\n",
       "      <th>4</th>\n",
       "      <td>other</td>\n",
       "      <td>801228.12500</td>\n",
       "    </tr>\n",
       "  </tbody>\n",
       "</table>\n",
       "</div>"
      ],
      "text/plain": [
       "     crop       area_ha\n",
       "0  arable  149535.15625\n",
       "1  citric    9535.93750\n",
       "2    nuts   59607.03125\n",
       "3   olive    9780.46875\n",
       "4   other  801228.12500"
      ]
     },
     "execution_count": 12,
     "metadata": {},
     "output_type": "execute_result"
    }
   ],
   "source": [
    "# merge land_use with grid\n",
    "land_merged = land_use.merge(grid, on=\"grid_id\")\n",
    "area_by_crop= land_merged.groupby([\"year\",\"crop\"])[\"area_ha\"].sum()\n",
    "area_by_crop_avg = area_by_crop.groupby(\"crop\").mean().reset_index()\n",
    "area_by_crop_avg"
   ]
  },
  {
   "cell_type": "code",
   "execution_count": 14,
   "id": "78fd364f",
   "metadata": {},
   "outputs": [],
   "source": [
    "# plot total area under irrigation over time\n",
    "area_by_crop_irrigation = land_merged[land_merged[\"irrigation\"] == 1].groupby([\"year\", \"crop\"])[\"area_ha\"].sum().reset_index()\n",
    "area_irrigation= area_by_crop_irrigation.groupby(\"year\")[\"area_ha\"].sum().reset_index()\n",
    "area_irrigation.rename(columns={\"area_ha\": \"total\"}, inplace=True)"
   ]
  },
  {
   "cell_type": "code",
   "execution_count": 16,
   "id": "e38e1499",
   "metadata": {},
   "outputs": [],
   "source": [
    "area_by_crop_irrigation = area_by_crop_irrigation.pivot(index=\"year\", columns=\"crop\", values=\"area_ha\")\n",
    "area_by_crop_irrigation_merged = area_by_crop_irrigation.merge(area_irrigation, on=\"year\")"
   ]
  },
  {
   "cell_type": "code",
   "execution_count": 17,
   "id": "38bd68c6",
   "metadata": {},
   "outputs": [
    {
     "data": {
      "text/html": [
       "<div>\n",
       "<style scoped>\n",
       "    .dataframe tbody tr th:only-of-type {\n",
       "        vertical-align: middle;\n",
       "    }\n",
       "\n",
       "    .dataframe tbody tr th {\n",
       "        vertical-align: top;\n",
       "    }\n",
       "\n",
       "    .dataframe thead th {\n",
       "        text-align: right;\n",
       "    }\n",
       "</style>\n",
       "<table border=\"1\" class=\"dataframe\">\n",
       "  <thead>\n",
       "    <tr style=\"text-align: right;\">\n",
       "      <th></th>\n",
       "      <th>year</th>\n",
       "      <th>arable</th>\n",
       "      <th>citric</th>\n",
       "      <th>nuts</th>\n",
       "      <th>olive</th>\n",
       "      <th>other</th>\n",
       "      <th>total</th>\n",
       "    </tr>\n",
       "  </thead>\n",
       "  <tbody>\n",
       "    <tr>\n",
       "      <th>0</th>\n",
       "      <td>2017</td>\n",
       "      <td>72818.75</td>\n",
       "      <td>11343.75</td>\n",
       "      <td>1668.75</td>\n",
       "      <td>3981.25</td>\n",
       "      <td>7962.50</td>\n",
       "      <td>97775.00</td>\n",
       "    </tr>\n",
       "    <tr>\n",
       "      <th>1</th>\n",
       "      <td>2018</td>\n",
       "      <td>41193.75</td>\n",
       "      <td>9831.25</td>\n",
       "      <td>1731.25</td>\n",
       "      <td>3962.50</td>\n",
       "      <td>6706.25</td>\n",
       "      <td>63425.00</td>\n",
       "    </tr>\n",
       "    <tr>\n",
       "      <th>2</th>\n",
       "      <td>2019</td>\n",
       "      <td>15181.25</td>\n",
       "      <td>8818.75</td>\n",
       "      <td>1587.50</td>\n",
       "      <td>3243.75</td>\n",
       "      <td>5568.75</td>\n",
       "      <td>34400.00</td>\n",
       "    </tr>\n",
       "    <tr>\n",
       "      <th>3</th>\n",
       "      <td>2020</td>\n",
       "      <td>14818.75</td>\n",
       "      <td>8775.00</td>\n",
       "      <td>1556.25</td>\n",
       "      <td>3137.50</td>\n",
       "      <td>4962.50</td>\n",
       "      <td>33250.00</td>\n",
       "    </tr>\n",
       "    <tr>\n",
       "      <th>4</th>\n",
       "      <td>2021</td>\n",
       "      <td>14162.50</td>\n",
       "      <td>9031.25</td>\n",
       "      <td>1581.25</td>\n",
       "      <td>3150.00</td>\n",
       "      <td>4581.25</td>\n",
       "      <td>32506.25</td>\n",
       "    </tr>\n",
       "    <tr>\n",
       "      <th>5</th>\n",
       "      <td>2022</td>\n",
       "      <td>13931.25</td>\n",
       "      <td>9425.00</td>\n",
       "      <td>1712.50</td>\n",
       "      <td>3056.25</td>\n",
       "      <td>4312.50</td>\n",
       "      <td>32437.50</td>\n",
       "    </tr>\n",
       "    <tr>\n",
       "      <th>6</th>\n",
       "      <td>2023</td>\n",
       "      <td>14043.75</td>\n",
       "      <td>9506.25</td>\n",
       "      <td>1675.00</td>\n",
       "      <td>3231.25</td>\n",
       "      <td>4062.50</td>\n",
       "      <td>32518.75</td>\n",
       "    </tr>\n",
       "    <tr>\n",
       "      <th>7</th>\n",
       "      <td>2024</td>\n",
       "      <td>13887.50</td>\n",
       "      <td>9556.25</td>\n",
       "      <td>1662.50</td>\n",
       "      <td>3187.50</td>\n",
       "      <td>3806.25</td>\n",
       "      <td>32100.00</td>\n",
       "    </tr>\n",
       "  </tbody>\n",
       "</table>\n",
       "</div>"
      ],
      "text/plain": [
       "   year    arable    citric     nuts    olive    other     total\n",
       "0  2017  72818.75  11343.75  1668.75  3981.25  7962.50  97775.00\n",
       "1  2018  41193.75   9831.25  1731.25  3962.50  6706.25  63425.00\n",
       "2  2019  15181.25   8818.75  1587.50  3243.75  5568.75  34400.00\n",
       "3  2020  14818.75   8775.00  1556.25  3137.50  4962.50  33250.00\n",
       "4  2021  14162.50   9031.25  1581.25  3150.00  4581.25  32506.25\n",
       "5  2022  13931.25   9425.00  1712.50  3056.25  4312.50  32437.50\n",
       "6  2023  14043.75   9506.25  1675.00  3231.25  4062.50  32518.75\n",
       "7  2024  13887.50   9556.25  1662.50  3187.50  3806.25  32100.00"
      ]
     },
     "execution_count": 17,
     "metadata": {},
     "output_type": "execute_result"
    }
   ],
   "source": [
    "area_by_crop_irrigation_merged"
   ]
  },
  {
   "cell_type": "code",
   "execution_count": 18,
   "id": "c8f9067f",
   "metadata": {},
   "outputs": [
    {
     "data": {
      "text/plain": [
       "<Figure size 800x500 with 0 Axes>"
      ]
     },
     "metadata": {},
     "output_type": "display_data"
    },
    {
     "data": {
      "image/png": "[encoded data removed]",
      "text/plain": [
       "<Figure size 640x480 with 1 Axes>"
      ]
     },
     "metadata": {},
     "output_type": "display_data"
    }
   ],
   "source": [
    "plt.figure(figsize=(8, 5))\n",
    "# plot the total area under irrigation over time\n",
    "area_by_crop_irrigation_merged.plot(x=\"year\",marker='o')\n",
    "plt.title(\"Total Area Under Irrigation Over Time\")\n",
    "plt.xlabel(\"Year\")\n",
    "plt.ylabel(\"Area (ha)\")\n",
    "plt.tight_layout()\n",
    "plt.grid(True)\n",
    "plt.show()"
   ]
  },
  {
   "cell_type": "markdown",
   "id": "614b02e2",
   "metadata": {},
   "source": [
    "# Model"
   ]
  },
  {
   "cell_type": "markdown",
   "id": "8ac00f8e",
   "metadata": {},
   "source": [
    "# Identification"
   ]
  },
  {
   "cell_type": "markdown",
   "id": "4f7dda0f",
   "metadata": {},
   "source": [
    "## Preview\n",
    "In the literature, the relationship between expected value function $\\bar{V}(s)$ and the $\\tilde{u}(s,a)$ and the CCP $\\Pr(a|s)$ is given by the following equation:\n",
    "$$\\bar{V}(s)=\\gamma + \\tilde{u}(s,a)-\\ln(\\Pr(a|s))$$\n",
    "\n",
    "To use the notation in the paper, it is \n",
    "$$V(k,\\omega)=\\gamma + \\pi_j(k,\\omega)+\\beta E(V(k',\\omega')\\mid j,k,\\omega)-\\ln(\\Pr(j|k,\\omega))$$\n",
    "- The correction term $\\psi$ corresponds to $\\gamma-\\ln(\\Pr(j|k,\\omega))$.\n",
    "- The continuation value $v_j(k,\\omega)$ corresponds to $ \\pi_j(k,\\omega)+\\beta E(V(k',\\omega')\\mid j,k,\\omega)$.\n",
    "\n",
    "## Question a\n",
    "\n",
    "$$\\Delta\\psi_{ja}(k,\\omega)= -\\pi_j(k,\\omega)+\\pi_a(k,\\omega)-\\beta V(j,\\omega')+\\beta V(a,\\omega')-e^v(j,\\omega,\\omega')+e^v(a,\\omega,\\omega')$$ \n",
    "\n",
    "To write it in the form as in Scott (2013) like an Euler equation, we have\n",
    "$$\\pi_{tj}(k,\\omega)-\\pi_{ta}(k,\\omega)+\\Delta\\psi_{ja}(k,\\omega)= \\beta V_{t+1}(j,\\omega')-\\beta V_{t+1}(a,\\omega')+e^v(a,\\omega,\\omega')-e^v(j,\\omega,\\omega')$$ \n",
    "Using the logit inversion $\\psi_j(k,\\omega)=\\gamma-\\ln(\\Pr(j|k,\\omega))$, we can rewrite the LHS as\n",
    "$$ \\pi_{tj}(k,\\omega)-\\pi_{ta}(k,\\omega)-\\ln(\\frac{\\Pr_t(j|k,\\omega)}{\\Pr_t(a|k,\\omega)}) = \\beta V_{t+1}(j,\\omega')-\\beta V_{t+1}(a,\\omega')+e^v(a,\\omega,\\omega')-e^v(j,\\omega,\\omega')$$ \n",
    "- LHS is the **minimum difference** between in expected profits during period $t$ which justifies the choice of $j$ over $a$.\n",
    "- RHS is the **expected loss** in continuation values resulting from the joice of $j$ over $a$.\n",
    "\n",
    "## Question b & c\n",
    "The relationship of interests is \n",
    "$$ V_{t+1}(k,\\omega)=\\gamma + v_{t+1r}(k,\\omega)-\\ln(\\Pr_{t+1}(r|k,\\omega))$$\n",
    "We can use it to replace the $V$ in the Euler equation.\n",
    "$$ \\pi_{tj}(k,\\omega)-\\pi_{ta}(k,\\omega)-\\ln(\\frac{\\Pr_t(j|k,\\omega)}{\\Pr_t(a|k,\\omega)}) = \\beta \\left\\{v_{t+1r}(j,\\omega')-v_{t+1r}(a,\\omega') + \\ln \\frac{\\Pr_{t+1}(r|j,\\omega')}{\\Pr_{t+1}(r|a,\\omega')}\\right\\}+e^v(a,\\omega,\\omega')-e^v(j,\\omega,\\omega')$$ \n",
    "\n",
    "Denote $r$ to be the renewal action (crop switching),\n",
    "and that \n",
    "$$ v_{t+1r}(j,\\omega)=\\pi_{t+1r}(j,\\omega)+\\beta E(V_{t+2}(k',\\omega')\\mid r,j,\\omega)$$\n",
    "Similarly for $v_{t+1r}(a,\\omega)$. And because of renewal, \n",
    "$$E(V_{t+2}(k',\\omega')\\mid r,j,\\omega)=E(V_{t+2}(k',\\omega')\\mid r,a,\\omega)$$\n",
    "Therefore, taking the difference between the two, we have\n",
    "$$ v_{t+1r}(j,\\omega)-v_{t+1r}(a,\\omega)= \\pi_{t+1r}(j,\\omega)-\\pi_{t+1r}(a,\\omega)$$ \n",
    "\n",
    "Therefore, the Euler equation becomes\n",
    "\n",
    "$$ \\pi_{tj}(k,\\omega)-\\pi_{ta}(k,\\omega)-\\ln(\\frac{\\Pr_t(j|k,\\omega)}{\\Pr_t(a|k,\\omega)}) = \\beta \\left\\{\\pi_{t+1r}(j,\\omega')-\\pi_{t+1r}(a,\\omega') + \\ln \\frac{\\Pr_{t+1}(r|j,\\omega')}{\\Pr_{t+1}(r|a,\\omega')}\\right\\}+e^v(a,\\omega,\\omega')-e^v(j,\\omega,\\omega')$$ \n"
   ]
  },
  {
   "cell_type": "markdown",
   "id": "5dd249bd",
   "metadata": {},
   "source": [
    "## Question d\n",
    "Rearranging,\n",
    "$$ \\ln(\\frac{\\Pr_t(j|k,\\omega)}{\\Pr_t(a|k,\\omega)}) + \\beta \\ln \\frac{\\Pr_{t+1}(r|j,\\omega')}{\\Pr_{t+1}(r|a,\\omega')}$$ \n",
    "$$ = \\pi_{tj}(k,\\omega)-\\pi_{ta}(k,\\omega) - \\beta (\\pi_{t+1r}(j,\\omega')-\\pi_{t+1r}(a,\\omega'))+e^v(a,\\omega,\\omega')-e^v(j,\\omega,\\omega')$$\n",
    "\n",
    "$$=\\theta_j-\\theta_a + \\theta_{kj}-\\theta_{ka} + \\theta^R R_j(\\omega)-\\theta^R R_a(\\omega) + \\xi_j(k,\\omega)-\\xi_a(k,\\omega)+\\varepsilon_j(k,\\omega)-\\varepsilon_a(k,\\omega) $$\n",
    "$$   \\beta(\\theta_r-\\theta_r+\\theta_{jr}-\\theta_{ar} + \\theta^R R_r(\\omega')-\\theta^R R_r(\\omega')+\\xi_r(j,\\omega')-\\xi_r(a,\\omega')+\\varepsilon_r(j,\\omega')-\\varepsilon_r(a,\\omega'))$$\n",
    "$$ +e^v(a,\\omega,\\omega')-e^v(j,\\omega,\\omega')$$\n"
   ]
  },
  {
   "cell_type": "markdown",
   "id": "21acd53e",
   "metadata": {},
   "source": [
    "Fixing the choice $j, a, r$ and aggregate state change $\\omega,\\omega'$. Define new symboles to rewrite the above regression equation: \n",
    "- $Y_{tk} = \\ln(\\frac{\\Pr_t(j|k,\\omega)}{\\Pr_t(a|k,\\omega)}) + \\beta \\ln \\frac{\\Pr_{t+1}(r|j,\\omega')}{\\Pr_{t+1}(r|a,\\omega')}$\n",
    "- $\\Delta \\alpha_{k} = \\theta_j-\\theta_a + \\theta_{kj}-\\theta_{ka}  + \\beta(\\theta_r-\\theta_r+\\theta_{jr}-\\theta_{ar})$\n",
    "- $\\Delta R_t =R_{jt}(\\omega)-R_{at}(\\omega)$\n",
    "- $\\Delta \\xi_{tk} = \\xi_j(k,\\omega)-\\xi_a(k,\\omega)+\\beta(\\xi_r(j,\\omega')-\\xi_r(a,\\omega'))$\n",
    "- $\\Delta e_{tk}^V=\\varepsilon_j(k,\\omega)-\\varepsilon_a(k,\\omega)+\\beta(\\varepsilon_r(j,\\omega')-\\varepsilon_r(a,\\omega'))$"
   ]
  },
  {
   "cell_type": "markdown",
   "id": "bf2e8db9",
   "metadata": {},
   "source": [
    "Then the regression equation can be written as\n",
    "$$ Y_{tk} = \\Delta \\alpha_{k}  + \\theta ^R \\Delta R_t + \\Delta \\xi_{tk} + \\Delta e_{tk}^V$$"
   ]
  },
  {
   "cell_type": "markdown",
   "id": "c73746cf",
   "metadata": {},
   "source": [
    "## Question e\n",
    "\n",
    "There is variation in $\\Delta R_t(\\omega)$ across aggregate states $\\omega \\in \\Omega$. In Scott 2013, most of the variation in $\\Delta R= R_{\\text{crops},t}-R_{\\text{others}}(\\omega)$ comes from the variation in $R_{\\text{crop}}(\\omega)$, instead of from  $R_{\\text{others}}(\\omega)$  which are proxied by patsture rentral rates.\n",
    "\n",
    "## Question f\n",
    "This is essentially a panel data estimation, with time $t$ and unit $k$. \n",
    "Firstly, the composite error term $\\Delta \\xi_{tk} + \\Delta e_{tk}^V$ needs to be uncorrelated with the regressors for all $t$.  The condition is likely to fail because of $\\xi$. \n",
    "Secondly, the fixed effect $\\Delta \\alpha_{k}$ naturally calls for a first-difference or within transformation to remove the fixed effect, if we don't assume that the persistent $\\Delta \\alpha_{k}$ is uncorrelated with the regressors for all $t$.\n",
    "The paper adopts the Arellano-Bond estimator to deal with the above mentioend two problems. \n",
    "\n",
    "To write out the moment conditions, we use $\\Delta R_{nt}$ to instrument for $\\Delta R_{nt+1}-\\Delta R_{nt}$.\n",
    "The requried assumptions are \n",
    "$$ \\mathbb{E} \\left[ \\Delta R_{nt} \\left( \\Delta \\tilde{\\xi}_{n,t+1} - \\Delta \\tilde{\\xi}_{nt} \\right) \\right] = 0,$$\n",
    "$$\\mathbb{E} \\left[ \\Delta R_{nt} \\left( \\Delta \\varepsilon^V_{n,t+1} - \\Delta \\varepsilon^V_{nt} \\right) \\right] = 0\n",
    "$$\n",
    "Formally, the estimating equation is  \n",
    "$$Y_{k,t+1} - Y_{kt} \n",
    "= \\theta^{R} \\left( \\Delta R_{k,t+1} - \\Delta R_{kt} \\right) \n",
    "+ \\left( \\Delta \\tilde{\\xi}_{k,t+1} - \\Delta \\tilde{\\xi}_{kt} \\right) \n",
    "+ \\left( \\Delta \\varepsilon^V_{k,t+1} - \\Delta \\varepsilon^V_{kt} \\right).\n",
    "$$\n",
    "\n",
    "\n",
    "For this estimating equation, Scott (2013) uses *lagged returns variables, expected caloric yields, constant term* as instruments in the moment condition,then proceed with 2-step GMM estimation. \n",
    "\n",
    "\n",
    "## Question g\n",
    "\n",
    "- Restriction: For example, Scott (2013) assumes that the payoff to non-cropland do not depend on the field state, equalizing $\\alpha(\\text{non-crops},k)=\\alpha(\\text{non-crops},k')$ for all $k,k'$. \n",
    "- Normalization: The author normalizes the payoff of one pair $(j,k)$ that $\\alpha(j,k)=0$.\n",
    "  \n",
    "This problem set imposes similar parameter restrictions and normalizations.\n"
   ]
  },
  {
   "cell_type": "markdown",
   "id": "c1aa00ec",
   "metadata": {},
   "source": [
    "# Estimation"
   ]
  },
  {
   "cell_type": "markdown",
   "id": "0beffbb0",
   "metadata": {},
   "source": [
    "First, one needs to construct the dependent and independent variables. \n",
    "Second, the regression equation is estimated."
   ]
  },
  {
   "cell_type": "code",
   "execution_count": 20,
   "id": "048ecd03",
   "metadata": {},
   "outputs": [],
   "source": [
    "from shapely.geometry import Point"
   ]
  },
  {
   "cell_type": "markdown",
   "id": "d9d8a482",
   "metadata": {},
   "source": [
    "1. Estimate the conditional choice probabilities using a frequency estimator for every year and province: $p_{jmt}(k) = \\hat{p}_j(k,\\omega)$. You will need to deal with zero probabilities.\n",
    "   1. variables\n",
    "      - $m$: province\n",
    "      - $t$: year \n",
    "      - $k$: individual state, which is equal to last period's choice (land use and irrgation)\n",
    "      - $j$: this period choice. (land use and irrgation)\n",
    "    2. calculate distance between provinces, therefore the weight.\n",
    "    3. for each $(m,t)$, use frequency estimator to calculate the ccp for $(j,k)$, but with weight defined in the previous step.\n"
   ]
  },
  {
   "cell_type": "markdown",
   "id": "6251a914",
   "metadata": {},
   "source": [
    "In Scott (2013), There is state, county, land. The paper calculates the ccp for each country by taking the other counties in the same state as smoothing input. \n",
    "\n",
    "In the problem set, there is province, grid. The ccp is calculated for each province. Other provinces are used as smoothing input. "
   ]
  },
  {
   "cell_type": "code",
   "execution_count": null,
   "id": "4a345263",
   "metadata": {},
   "outputs": [
    {
     "data": {
      "text/html": [
       "<div>\n",
       "<style scoped>\n",
       "    .dataframe tbody tr th:only-of-type {\n",
       "        vertical-align: middle;\n",
       "    }\n",
       "\n",
       "    .dataframe tbody tr th {\n",
       "        vertical-align: top;\n",
       "    }\n",
       "\n",
       "    .dataframe thead th {\n",
       "        text-align: right;\n",
       "    }\n",
       "</style>\n",
       "<table border=\"1\" class=\"dataframe\">\n",
       "  <thead>\n",
       "    <tr style=\"text-align: right;\">\n",
       "      <th>prov</th>\n",
       "      <th>Almeria</th>\n",
       "      <th>Cadiz</th>\n",
       "      <th>Cordoba</th>\n",
       "      <th>Granada</th>\n",
       "      <th>Huelva</th>\n",
       "      <th>Jaen</th>\n",
       "      <th>Malaga</th>\n",
       "      <th>Sevilla</th>\n",
       "    </tr>\n",
       "    <tr>\n",
       "      <th>prov</th>\n",
       "      <th></th>\n",
       "      <th></th>\n",
       "      <th></th>\n",
       "      <th></th>\n",
       "      <th></th>\n",
       "      <th></th>\n",
       "      <th></th>\n",
       "      <th></th>\n",
       "    </tr>\n",
       "  </thead>\n",
       "  <tbody>\n",
       "    <tr>\n",
       "      <th>Almeria</th>\n",
       "      <td>0.000000</td>\n",
       "      <td>312.211081</td>\n",
       "      <td>224.575912</td>\n",
       "      <td>79.078928</td>\n",
       "      <td>392.650253</td>\n",
       "      <td>113.089106</td>\n",
       "      <td>212.506580</td>\n",
       "      <td>285.151168</td>\n",
       "    </tr>\n",
       "    <tr>\n",
       "      <th>Cadiz</th>\n",
       "      <td>312.211081</td>\n",
       "      <td>0.000000</td>\n",
       "      <td>180.601198</td>\n",
       "      <td>241.130048</td>\n",
       "      <td>143.512388</td>\n",
       "      <td>265.130625</td>\n",
       "      <td>99.743919</td>\n",
       "      <td>112.125038</td>\n",
       "    </tr>\n",
       "    <tr>\n",
       "      <th>Cordoba</th>\n",
       "      <td>224.575912</td>\n",
       "      <td>180.601198</td>\n",
       "      <td>0.000000</td>\n",
       "      <td>148.180949</td>\n",
       "      <td>185.422069</td>\n",
       "      <td>125.494329</td>\n",
       "      <td>128.577503</td>\n",
       "      <td>85.471411</td>\n",
       "    </tr>\n",
       "    <tr>\n",
       "      <th>Granada</th>\n",
       "      <td>79.078928</td>\n",
       "      <td>241.130048</td>\n",
       "      <td>148.180949</td>\n",
       "      <td>0.000000</td>\n",
       "      <td>313.712526</td>\n",
       "      <td>63.474053</td>\n",
       "      <td>142.288198</td>\n",
       "      <td>206.114468</td>\n",
       "    </tr>\n",
       "    <tr>\n",
       "      <th>Huelva</th>\n",
       "      <td>392.650253</td>\n",
       "      <td>143.512388</td>\n",
       "      <td>185.422069</td>\n",
       "      <td>313.712526</td>\n",
       "      <td>0.000000</td>\n",
       "      <td>308.381901</td>\n",
       "      <td>203.636431</td>\n",
       "      <td>107.840659</td>\n",
       "    </tr>\n",
       "    <tr>\n",
       "      <th>Jaen</th>\n",
       "      <td>113.089106</td>\n",
       "      <td>265.130625</td>\n",
       "      <td>125.494329</td>\n",
       "      <td>63.474053</td>\n",
       "      <td>308.381901</td>\n",
       "      <td>0.000000</td>\n",
       "      <td>174.104698</td>\n",
       "      <td>202.378705</td>\n",
       "    </tr>\n",
       "    <tr>\n",
       "      <th>Malaga</th>\n",
       "      <td>212.506580</td>\n",
       "      <td>99.743919</td>\n",
       "      <td>128.577503</td>\n",
       "      <td>142.288198</td>\n",
       "      <td>203.636431</td>\n",
       "      <td>174.104698</td>\n",
       "      <td>0.000000</td>\n",
       "      <td>113.444528</td>\n",
       "    </tr>\n",
       "    <tr>\n",
       "      <th>Sevilla</th>\n",
       "      <td>285.151168</td>\n",
       "      <td>112.125038</td>\n",
       "      <td>85.471411</td>\n",
       "      <td>206.114468</td>\n",
       "      <td>107.840659</td>\n",
       "      <td>202.378705</td>\n",
       "      <td>113.444528</td>\n",
       "      <td>0.000000</td>\n",
       "    </tr>\n",
       "  </tbody>\n",
       "</table>\n",
       "</div>"
      ],
      "text/plain": [
       "prov        Almeria       Cadiz     Cordoba     Granada      Huelva  \\\n",
       "prov                                                                  \n",
       "Almeria    0.000000  312.211081  224.575912   79.078928  392.650253   \n",
       "Cadiz    312.211081    0.000000  180.601198  241.130048  143.512388   \n",
       "Cordoba  224.575912  180.601198    0.000000  148.180949  185.422069   \n",
       "Granada   79.078928  241.130048  148.180949    0.000000  313.712526   \n",
       "Huelva   392.650253  143.512388  185.422069  313.712526    0.000000   \n",
       "Jaen     113.089106  265.130625  125.494329   63.474053  308.381901   \n",
       "Malaga   212.506580   99.743919  128.577503  142.288198  203.636431   \n",
       "Sevilla  285.151168  112.125038   85.471411  206.114468  107.840659   \n",
       "\n",
       "prov           Jaen      Malaga     Sevilla  \n",
       "prov                                         \n",
       "Almeria  113.089106  212.506580  285.151168  \n",
       "Cadiz    265.130625   99.743919  112.125038  \n",
       "Cordoba  125.494329  128.577503   85.471411  \n",
       "Granada   63.474053  142.288198  206.114468  \n",
       "Huelva   308.381901  203.636431  107.840659  \n",
       "Jaen       0.000000  174.104698  202.378705  \n",
       "Malaga   174.104698    0.000000  113.444528  \n",
       "Sevilla  202.378705  113.444528    0.000000  "
      ]
     },
     "execution_count": 21,
     "metadata": {},
     "output_type": "execute_result"
    }
   ],
   "source": [
    "# Approach 1 to calculate province centroids and distances\n",
    "# Dissolve the grid by province, project for distance in meters, and compute centroids\n",
    "province_gdf = grid.to_crs(epsg=25830).dissolve(by=\"prov\")\n",
    "province_gdf[\"centroid\"] = province_gdf.geometry.centroid\n",
    "\n",
    "# Compute pairwise distance in kilometers (vectorized approach)\n",
    "dist_matrix = province_gdf[\"centroid\"].apply(lambda x: province_gdf[\"centroid\"].distance(x)) / 1000\n",
    "dist_matrix"
   ]
  },
  {
   "cell_type": "code",
   "execution_count": null,
   "id": "6e1ed806",
   "metadata": {},
   "outputs": [],
   "source": [
    "# Approach 2 to calculate province centroids and distances\n",
    "# Calculate centroids of each province using the grid\n",
    "grid_centroids = grid.dissolve(by=\"grid_id\").centroid\n",
    "\n",
    "# Create a distance matrix (in kilometers) between province centroids\n",
    "grid_names = grid_centroids.index.tolist()\n",
    "n = len(grid_names)\n",
    "distance_matrix = np.zeros((n, n))\n",
    "\n",
    "for i in range(n):\n",
    "    for j in range(n):\n",
    "        distance_matrix[i, j] =grid_centroids.iloc[i].distance(grid_centroids.iloc[j]) / 1000  # meters to km\n",
    "\n",
    "# Create a DataFrame for easier viewing\n",
    "province_distance_df = pd.DataFrame(distance_matrix, index=grid_names, columns=grid_names)\n",
    "province_distance_df"
   ]
  },
  {
   "cell_type": "code",
   "execution_count": 24,
   "id": "cf8e753b",
   "metadata": {},
   "outputs": [
    {
     "name": "stdout",
     "output_type": "stream",
     "text": [
      "prov      Almeria     Cadiz   Cordoba   Granada    Huelva      Jaen    Malaga  \\\n",
      "prov                                                                            \n",
      "Almeria  1.000000  0.000010  0.000020  0.000156  0.000006  0.000077  0.000022   \n",
      "Cadiz    0.000010  1.000000  0.000030  0.000017  0.000048  0.000014  0.000099   \n",
      "Cordoba  0.000020  0.000030  1.000000  0.000045  0.000029  0.000062  0.000060   \n",
      "Granada  0.000156  0.000017  0.000045  1.000000  0.000010  0.000241  0.000049   \n",
      "Huelva   0.000006  0.000048  0.000029  0.000010  1.000000  0.000010  0.000024   \n",
      "Jaen     0.000077  0.000014  0.000062  0.000241  0.000010  1.000000  0.000033   \n",
      "Malaga   0.000022  0.000099  0.000060  0.000049  0.000024  0.000033  1.000000   \n",
      "Sevilla  0.000012  0.000078  0.000134  0.000023  0.000084  0.000024  0.000076   \n",
      "\n",
      "prov      Sevilla  \n",
      "prov               \n",
      "Almeria  0.000012  \n",
      "Cadiz    0.000078  \n",
      "Cordoba  0.000134  \n",
      "Granada  0.000023  \n",
      "Huelva   0.000084  \n",
      "Jaen     0.000024  \n",
      "Malaga   0.000076  \n",
      "Sevilla  1.000000  \n"
     ]
    }
   ],
   "source": [
    "# The weighting matrix \n",
    "weight_matrix = (1+ dist_matrix)**(-2)\n",
    "print(weight_matrix)"
   ]
  }
 ],
 "metadata": {
  "kernelspec": {
   "display_name": "base",
   "language": "python",
   "name": "python3"
  },
  "language_info": {
   "codemirror_mode": {
    "name": "ipython",
    "version": 3
   },
   "file_extension": ".py",
   "mimetype": "text/x-python",
   "name": "python",
   "nbconvert_exporter": "python",
   "pygments_lexer": "ipython3",
   "version": "3.12.7"
  }
 },
 "nbformat": 4,
 "nbformat_minor": 5
}
